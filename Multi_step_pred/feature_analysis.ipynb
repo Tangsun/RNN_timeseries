{
 "cells": [
  {
   "cell_type": "code",
   "execution_count": 2,
   "outputs": [],
   "source": [
    "import numpy as np\n",
    "import torch\n",
    "import torch.nn as nn\n",
    "from model import nts_RNN, nts_MLP\n",
    "from utils import TimeseriesDataset\n",
    "from torch.utils.data import DataLoader\n",
    "import matplotlib.pyplot as plt"
   ],
   "metadata": {
    "collapsed": false,
    "pycharm": {
     "name": "#%%\n"
    }
   }
  },
  {
   "cell_type": "code",
   "execution_count": 3,
   "outputs": [],
   "source": [
    "def evaluate_model_on_trainset(model_name, hidden_size, seq_len, fut_len, MLP_flag):\n",
    "    dataset_name='TrainSet.mat'\n",
    "\n",
    "    if MLP_flag:\n",
    "        model = nts_MLP(hidden_size, input_size=seq_len, fut_len=fut_len)\n",
    "    else:\n",
    "        model = nts_RNN(hidden_size, fut_len)\n",
    "\n",
    "    model.load_state_dict(torch.load(\"trained_models/\"+model_name))\n",
    "\n",
    "    dataset = TimeseriesDataset(dataset_name, seq_len, fut_len)\n",
    "    batch_size = 1\n",
    "    loader = DataLoader(dataset, batch_size, shuffle=False)\n",
    "    loss_function = nn.MSELoss()\n",
    "    loss = np.zeros(len(loader))\n",
    "    model.eval()\n",
    "\n",
    "    for i, (X, y) in enumerate(loader):\n",
    "        if MLP_flag:\n",
    "            X = torch.swapaxes(X, 1, 2)\n",
    "        output = model(X)\n",
    "        if MLP_flag:\n",
    "            output = torch.swapaxes(output, 1, 2)\n",
    "        loss[i] = loss_function(output.detach().flatten(), y.flatten())\n",
    "\n",
    "    return np.average(loss)"
   ],
   "metadata": {
    "collapsed": false,
    "pycharm": {
     "name": "#%%\n"
    }
   }
  },
  {
   "cell_type": "code",
   "execution_count": 7,
   "outputs": [
    {
     "name": "stdout",
     "output_type": "stream",
     "text": [
      "[0.07030681471583465, 0.061816445927135234, 0.08065034566463353, 0.051099979198674296]\n"
     ]
    }
   ],
   "source": [
    "loss_1 = evaluate_model_on_trainset('L3_double_S10_B50_LR5e3_NR.pt', [16, 14, 12], 10, 10, MLP_flag=False)\n",
    "loss_2 = evaluate_model_on_trainset('L3_four_S10_B50_LR5e3_NR.pt', [32, 28, 24], 10, 10, MLP_flag=False)\n",
    "loss_3 = evaluate_model_on_trainset('MLP3_double_S10_B50_LR5e3_NR.pt', [16, 14, 12], 10, 10, MLP_flag=True)\n",
    "loss_4 = evaluate_model_on_trainset('MLP3_four_S10_B50_LR2e3_NR.pt', [32, 28, 24], 10, 10, MLP_flag=True)\n",
    "print([loss_1, loss_2, loss_3, loss_4])"
   ],
   "metadata": {
    "collapsed": false,
    "pycharm": {
     "name": "#%%\n"
    }
   }
  },
  {
   "cell_type": "code",
   "execution_count": 9,
   "outputs": [
    {
     "name": "stdout",
     "output_type": "stream",
     "text": [
      "[0.061816445927135234, 0.2326397165326853, 0.235032166603661, 0.051099979198674296, 0.04061354268580948, 0.02852294441956928]\n"
     ]
    }
   ],
   "source": [
    "loss_1 = evaluate_model_on_trainset('L3_four_S10_B50_LR5e3_NR.pt', [32, 28, 24], 10, 10, MLP_flag=False)\n",
    "loss_2 = evaluate_model_on_trainset('L3_four_S40_B50_LR5e3_NR.pt', [32, 28, 24], 40, 10, MLP_flag=False)\n",
    "loss_3 = evaluate_model_on_trainset('L3_four_S80_B50_LR2e3_NR.pt', [32, 28, 24], 80, 10, MLP_flag=False)\n",
    "\n",
    "loss_4 = evaluate_model_on_trainset('MLP3_four_S10_B50_LR2e3_NR.pt', [32, 28, 24], 10, 10, MLP_flag=True)\n",
    "loss_5 = evaluate_model_on_trainset('MLP3_four_S40_B50_LR2e3_NR.pt', [32, 28, 24], 40, 10, MLP_flag=True)\n",
    "loss_6 = evaluate_model_on_trainset('MLP3_four_S80_B50_LR2e3_NR.pt', [32, 28, 24], 80, 10, MLP_flag=True)\n",
    "print([loss_1, loss_2, loss_3, loss_4, loss_5, loss_6])"
   ],
   "metadata": {
    "collapsed": false,
    "pycharm": {
     "name": "#%%\n"
    }
   }
  },
  {
   "cell_type": "code",
   "execution_count": null,
   "outputs": [],
   "source": [],
   "metadata": {
    "collapsed": false,
    "pycharm": {
     "name": "#%%\n"
    }
   }
  }
 ],
 "metadata": {
  "kernelspec": {
   "display_name": "Python 3",
   "language": "python",
   "name": "python3"
  },
  "language_info": {
   "codemirror_mode": {
    "name": "ipython",
    "version": 2
   },
   "file_extension": ".py",
   "mimetype": "text/x-python",
   "name": "python",
   "nbconvert_exporter": "python",
   "pygments_lexer": "ipython2",
   "version": "2.7.6"
  }
 },
 "nbformat": 4,
 "nbformat_minor": 0
}