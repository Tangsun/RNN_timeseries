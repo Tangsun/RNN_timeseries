{
 "cells": [
  {
   "cell_type": "code",
   "execution_count": null,
   "metadata": {
    "pycharm": {
     "is_executing": true,
     "name": "#%%\n"
    }
   },
   "outputs": [],
   "source": [
    "import numpy as np\n",
    "import matplotlib.pyplot as plt\n",
    "import torch\n",
    "from torch.utils.data import Dataset, DataLoader\n",
    "from torch import nn\n",
    "from tqdm import tqdm\n",
    "from utils import TimeseriesDataset\n",
    "from model import nts_RNN, train_model"
   ]
  },
  {
   "cell_type": "code",
   "execution_count": null,
   "metadata": {
    "pycharm": {
     "name": "#%%\n"
    }
   },
   "outputs": [],
   "source": [
    "def run_training(dataset_name, seq_len, batch_size, learning_rate, hidden_size, weight_decay, save_model, model_save_name):\n",
    "    train_dataset = TimeseriesDataset(dataset_name, seq_len)\n",
    "    train_loader = DataLoader(train_dataset, batch_size, shuffle=True)\n",
    "    model = nts_RNN(hidden_size)\n",
    "    loss_function = nn.MSELoss()\n",
    "    optimizer = torch.optim.Adam(model.parameters(), lr=learning_rate, weight_decay=weight_decay)\n",
    "\n",
    "    num_epoch = 1000\n",
    "    loss_log = np.zeros(num_epoch)\n",
    "    for epoch_id in tqdm(range(num_epoch)):\n",
    "        loss_log[epoch_id] = train_model(train_loader, model, loss_function, optimizer)\n",
    "        if epoch_id % 100 == 0 or epoch_id == num_epoch-1:\n",
    "            print(f\"Epoch {epoch_id}, loss: {loss_log[epoch_id]}\\n-----------\")\n",
    "\n",
    "    if save_model == True:\n",
    "        torch.save(model.state_dict(), \"trained_models/\"+model_save_name)\n",
    "    return model, loss_log"
   ]
  },
  {
   "cell_type": "code",
   "execution_count": null,
   "metadata": {
    "pycharm": {
     "name": "#%%\n"
    }
   },
   "outputs": [],
   "source": [
    "model, loss_log = run_training('TrainSet.mat', 10, 50, 1e-3, [16], 0, True, \"L1_16_S10_B50_LR1e3_NR.pt\")"
   ]
  },
  {
   "cell_type": "markdown",
   "metadata": {
    "pycharm": {
     "name": "#%% md\n"
    }
   },
   "source": []
  },
  {
   "cell_type": "code",
   "execution_count": null,
   "metadata": {
    "pycharm": {
     "name": "#%%\n"
    }
   },
   "outputs": [],
   "source": [
    "model, loss_log = run_training('TrainSet.mat', 10, 50, 1e-3, [8], 0, True, \"L1_8_S10_B50_LR1e3_NR.pt\")\n",
    "plt.figure()\n",
    "plt.plot(range(1000), loss_log)"
   ]
  },
  {
   "cell_type": "code",
   "execution_count": null,
   "metadata": {
    "pycharm": {
     "name": "#%%\n"
    }
   },
   "outputs": [],
   "source": [
    "model, loss_log = run_training('TrainSet.mat', 10, 50, 1e-3, [8, 7, 6], 1e-4, True, \"L3_S10_B50_LR1e3_R1e4.pt\")\n",
    "plt.figure()\n",
    "plt.plot(range(1000), loss_log)"
   ]
  },
  {
   "cell_type": "code",
   "execution_count": null,
   "metadata": {
    "pycharm": {
     "name": "#%%\n"
    }
   },
   "outputs": [],
   "source": []
  }
 ],
 "metadata": {
  "kernelspec": {
   "display_name": "Python 3 (ipykernel)",
   "language": "python",
   "name": "python3"
  },
  "language_info": {
   "codemirror_mode": {
    "name": "ipython",
    "version": 3
   },
   "file_extension": ".py",
   "mimetype": "text/x-python",
   "name": "python",
   "nbconvert_exporter": "python",
   "pygments_lexer": "ipython3",
   "version": "3.9.12"
  }
 },
 "nbformat": 4,
 "nbformat_minor": 1
}
